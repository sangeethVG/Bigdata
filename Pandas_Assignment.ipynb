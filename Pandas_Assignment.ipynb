{
 "cells": [
  {
   "cell_type": "raw",
   "id": "10f68be4-4173-4aec-be99-3895503973b7",
   "metadata": {},
   "source": [
    "Q1. How do you load a CSV file into a Pandas DataFrame?"
   ]
  },
  {
   "cell_type": "raw",
   "id": "c0722a32-4982-4049-a238-d9ef9ace25a9",
   "metadata": {},
   "source": [
    "ans: Using read_csv function takes a path to a csv file and reads the data into Pandas dataframe object. \n",
    "\n",
    "import pandas as pd\n",
    "\n",
    "df=pd.read_csv(\"file_name.csv\")"
   ]
  },
  {
   "cell_type": "raw",
   "id": "ad40e86e-fc57-4a29-8a83-b09db857ec50",
   "metadata": {},
   "source": [
    "Q2. How do you check the data type of a column in a Pandas DataFrame?"
   ]
  },
  {
   "cell_type": "raw",
   "id": "2718d796-3f26-4d04-9f51-d58a1ebdb713",
   "metadata": {
    "tags": []
   },
   "source": [
    "ans: Using Dataframe.dtypes attribute to get datatypes of all columns of a dataframe."
   ]
  },
  {
   "cell_type": "raw",
   "id": "ced0ee3f-f3d9-4453-9959-932ce9695fad",
   "metadata": {},
   "source": [
    "Q3. How do you select rows from a Pandas DataFrame based on a condition?"
   ]
  },
  {
   "cell_type": "raw",
   "id": "0bf907f8-8ce7-410e-8dca-b427b7013aaf",
   "metadata": {},
   "source": [
    "ans:Selecting rows based on particular column value using '>', '=', '<', '<=', '!=' operator.\n",
    "\n",
    "example:\n",
    "\n",
    "# importing pandas\n",
    "import pandas as pd\n",
    "  \n",
    "record = {\n",
    "  'Name': ['Ankit', 'Sangeeths', 'Ashvik', 'vihaan', 'Ranjitha', 'Shaurya' ],\n",
    "  'Age': [21, 19, 20, 18, 17, 21],\n",
    "  'Stream': ['Math', 'Commerce', 'Science', 'Math', 'Math', 'Science'],\n",
    "  'Percentage': [88, 92, 95, 70, 65, 78]}\n",
    "  \n",
    "# create a dataframe\n",
    "dataframe = pd.DataFrame(record, columns = ['Name', 'Age', 'Stream', 'Percentage'])\n",
    "  \n",
    "print(\"Given Dataframe :\\n\", dataframe) \n",
    "  \n",
    "# selecting rows based on condition\n",
    "rslt_df = dataframe.loc[dataframe['Percentage'] > 80]\n",
    "  \n",
    "print('\\nResult dataframe :\\n', rslt_df)  \n"
   ]
  },
  {
   "cell_type": "raw",
   "id": "79ffbde6-ed58-4976-80e2-f0d98c4b1841",
   "metadata": {},
   "source": [
    "Q4. How do you rename columns in a Pandas DataFrame?"
   ]
  },
  {
   "cell_type": "raw",
   "id": "356f250f-06bf-4129-aae2-138cee444902",
   "metadata": {},
   "source": [
    "ans:  Using rename function .\n",
    "\n",
    "example:\n",
    "\n",
    "# Import pandas package\n",
    "import pandas as pd\n",
    "\n",
    "# Define a dictionary containing rank\n",
    "rank={'test':['India','England'],'t20':['England','India']}\n",
    "\n",
    "# Convert the dictionary into DataFrame\n",
    "rank_pd = pd.DataFrame(rank)\n",
    "  \n",
    "# Before renaming the columns\n",
    "print(rank_pd)\n",
    "  \n",
    "rank_pd.rename(columns = {'test':'TEST'}, inplace = True)\n",
    "\n",
    "print(\"after modifing column name\",rank_pd)\n",
    "\n"
   ]
  },
  {
   "cell_type": "raw",
   "id": "2b78d2d9-2e7b-4b95-b353-485d63502edf",
   "metadata": {},
   "source": [
    "Q5. How do you drop columns in a Pandas DataFrame?"
   ]
  },
  {
   "cell_type": "raw",
   "id": "6e74ef56-19b5-4cf0-a82e-d20e5f1e7ee1",
   "metadata": {},
   "source": [
    "ans: Using drop method. It removes the specified row or column.\n",
    "\n",
    "By specifying the column axis (axis='columns'), the drop() method removes the specified column.\n",
    "\n",
    "By specifying the row axis (axis='index'), the drop() method removes the specified row.\n",
    "\n",
    "example:\n",
    "\n",
    "newdf = rank_pd.drop(\"t20\", axis='columns')"
   ]
  },
  {
   "cell_type": "raw",
   "id": "a7e0d133-7b7f-47d9-9387-7e38288878b4",
   "metadata": {},
   "source": [
    "Q6. How do you find the unique values in a column of a Pandas DataFrame?"
   ]
  },
  {
   "cell_type": "raw",
   "id": "a51b2ac0-ae62-4a44-b996-8ca740326631",
   "metadata": {},
   "source": [
    "ans:To get unique values from a column in a DataFrame, use the unique().\n",
    "example:Get the unique values of ‘C’ column\n",
    "# Import pandas package\n",
    "import pandas as pd\n",
    "\n",
    "# create a dictionary with five fields each\n",
    "data = {\n",
    "\t'A':['A1', 'A2', 'A3', 'A4', 'A5'],\n",
    "\t'B':['B1', 'B2', 'B3', 'B4', 'B4'],\n",
    "\t'C':['C1', 'C2', 'C3', 'C3', 'C3'],\n",
    "\t'D':['D1', 'D2', 'D2', 'D2', 'D2'],\n",
    "\t'E':['E1', 'E1', 'E1', 'E1', 'E1'] }\n",
    "\n",
    "# Convert the dictionary into DataFrame\n",
    "df = pd.DataFrame(data)\n",
    "\n",
    "# Get the unique values of 'B' column\n",
    "df.C.unique()\n"
   ]
  },
  {
   "cell_type": "raw",
   "id": "3770e739-da82-4b04-8d99-fd8c1dc1b7bb",
   "metadata": {
    "tags": []
   },
   "source": [
    "Q7. How do you find the number of missing values in each column of a Pandas DataFrame?"
   ]
  },
  {
   "cell_type": "raw",
   "id": "03535ca5-ec0e-4423-a171-0bd0cb3e8e4d",
   "metadata": {},
   "source": [
    "ans: We can use pandas isna() function find if each element of the dataframe is missing value or not. \n",
    "When applied to a dataframe, Pandas isna() function return boolean dataframe with True with the element is missing value and False when it is not a missing value.\n",
    "We can use Pandas sum() function to get the counts of missing values per each column in the dataframe.\n",
    "example: df.isna().sum()\n"
   ]
  },
  {
   "cell_type": "raw",
   "id": "f1ab0136-1622-4d50-96c9-430d57b6141b",
   "metadata": {},
   "source": [
    "Q8. How do you fill missing values in a Pandas DataFrame with a specific value?"
   ]
  },
  {
   "cell_type": "raw",
   "id": "d2092497-61ae-43f0-ab07-ce570cb84190",
   "metadata": {},
   "source": [
    "ans:using fillna() function to fill missing values in a Pandas DataFrame with a specific value.\n",
    "example:\n",
    "\n",
    "# importing pandas as pd\n",
    "import pandas as pd\n",
    "  \n",
    "# importing numpy as np\n",
    "import numpy as np\n",
    "  \n",
    "# dictionary of lists\n",
    "dict = {'First Score':[100, 90, np.nan, 95],\n",
    "        'Second Score': [30, 45, 56, np.nan],\n",
    "        'Third Score':[np.nan, 40, 80, 98]}\n",
    "  \n",
    "# creating a dataframe from dictionary\n",
    "df = pd.DataFrame(dict)\n",
    "  \n",
    "# filling missing value using fillna()  \n",
    "df.fillna(0)"
   ]
  },
  {
   "cell_type": "raw",
   "id": "005f94c3-d639-4090-911c-430db89a2da5",
   "metadata": {},
   "source": [
    "Q9. How do you concatenate two Pandas DataFrames?"
   ]
  },
  {
   "cell_type": "raw",
   "id": "f1be3128-b4c7-41ac-a72d-3dda0a1c3679",
   "metadata": {},
   "source": [
    "ans:A Concatination of two Pandas Dataframes can be done by using pandas.concat() method.\n",
    "It works by Combining Dataframes across rows(axis=0) or columns(axis=1).\n",
    "\n",
    "example:\n",
    "\n",
    "import pandas as pd\n",
    "import numpy as np\n",
    " \n",
    "df1 = pd.DataFrame(np.random.randint(25, size=(2, 2)),\n",
    "                   index=[\"1\", \"2\"],\n",
    "                   columns=[\"A\", \"B\"])\n",
    " \n",
    "df2 = pd.DataFrame(np.random.randint(25, size=(3, 2)),\n",
    "                   index=[\"5\", \"6\", \"7\"],\n",
    "                   columns=[ \"B\", \"C\"])\n",
    "\n",
    "# concatenating df1 and df2 along rows\n",
    "vert_concat = pd.concat([df1, df2], axis=0)\n",
    " \n",
    "# concatenating df3 and df4 along columns\n",
    "hor_concat = pd.concat([df1, df2], axis=1)\n",
    " \n",
    "display(vert_concat,hor_concat)"
   ]
  },
  {
   "cell_type": "raw",
   "id": "50cf6b0d-ac2a-4c43-b3d3-80cb35f9e3f2",
   "metadata": {},
   "source": [
    "Q10. How do you merge two Pandas DataFrames on a specific column?"
   ]
  },
  {
   "cell_type": "raw",
   "id": "1bce9a24-e6b2-47d0-88a9-9fdceebe6fec",
   "metadata": {},
   "source": [
    "ans:  Merge two Pandas DataFrames on a specific column using Merge() function.\n",
    "example: \n",
    "    \n",
    "import pandas as pd   \n",
    "\n",
    "# Create first pandas DataFrame\n",
    "df1 = pd.DataFrame({\"col\":range(11, 17),    \n",
    "                      \"x1\":range(12, 1, - 2),\n",
    "                      \"x2\":[\"a\", \"b\", \"c\", \"d\", \"e\", \"f\"],\n",
    "                      \"x3\":range(17, 11, - 1)})\n",
    "# Print first pandas DataFrame                     \n",
    "print(df1)      \n",
    "\n",
    "# Create second pandas DataFrame\n",
    "df2 = pd.DataFrame({\"col\":range(15, 19),    \n",
    "                      \"y1\":[\"l\", \"k\", \"j\", \"h\"],\n",
    "                      \"y2\":[\"x\", \"y\", \"y\", \"y\"],\n",
    "                      \"y3\":range(18, 10, - 2)})\n",
    "# Print second pandas DataFrame                      \n",
    "print(df2)    \n",
    "\n",
    "# Inner join\n",
    "data_join = pd.merge(df1,df2,on = \"col\")\n",
    "print(data_join)   "
   ]
  },
  {
   "cell_type": "raw",
   "id": "23771bd6-fc02-493b-8e82-0328d93d1201",
   "metadata": {},
   "source": [
    "Q11. How do you group data in a Pandas DataFrame by a specific column and apply an aggregation function?"
   ]
  },
  {
   "cell_type": "raw",
   "id": "7dad3499-fd04-47c1-a529-dc5392dab44b",
   "metadata": {},
   "source": [
    "ans: To do grouping use DataFrame.groupby() function. \n",
    "This function returns the DataFrameGroupBy object and use aggregate() function to calculate the sum.\n",
    "    \n",
    "# Syntax of DataFrame.aggregate() \n",
    "DataFrame.aggregate(func=None, axis=0, *args, **kwargs)\n",
    "\n",
    "# Syntax of DataFrameGroupBy.aggregate() \n",
    "DataFrameGroupBy.aggregate(func=None, *args, engine=None, engine_kwargs=None, **kwargs)"
   ]
  },
  {
   "cell_type": "raw",
   "id": "689b3081-f2d0-4789-889f-5aca65286848",
   "metadata": {},
   "source": [
    "Q12. How do you pivot a Pandas DataFrame?"
   ]
  },
  {
   "cell_type": "raw",
   "id": "310f7b1d-415c-4a49-9b70-08872b468a34",
   "metadata": {},
   "source": [
    "ans: The pivot() function is used to reshaped a given DataFrame organized by given index / column values. This function does not support data aggregation, multiple values will result in a MultiIndex in the columns.\n",
    "\n",
    "Syntax: DataFrame.pivot(self, index=None, columns=None, values=None)"
   ]
  },
  {
   "cell_type": "raw",
   "id": "7ff95538-a508-4c1f-bc4f-43f5b60e62a5",
   "metadata": {},
   "source": [
    "Q13. How do you change the data type of a column in a Pandas DataFrame?"
   ]
  },
  {
   "cell_type": "raw",
   "id": "97b405b9-89b7-4ee6-af42-d8cade49248e",
   "metadata": {},
   "source": [
    "ans: In Pandas DataFrame or any table-like data structures we are often required to chang the data type(dtype) of a column also called type casting, for example, convert from int to string, string to int e.t.c, In pandas, you can do this by using several methods like astype(), to_numeric(), covert_dttypes(), infer_objects() and e.t.c."
   ]
  },
  {
   "cell_type": "raw",
   "id": "17ed0af9-6f8b-4941-b596-653d39400e72",
   "metadata": {},
   "source": [
    "Q14. How do you sort a Pandas DataFrame by a specific column?"
   ]
  },
  {
   "cell_type": "raw",
   "id": "e666cd46-bdde-4701-8ea5-7caf1ab75146",
   "metadata": {},
   "source": [
    "ans: You can sort by column values in pandas DataFrame using sort_values() method. \n",
    "To specify the order, you have to use ascending boolean property; False for descending and True for ascending. \n",
    "By default, it is set to True\n",
    "\n",
    "Syntax: DataFrame.sort_values(by, axis=0, ascending=True, inplace=False, kind=’quicksort’, na_position=’last’)"
   ]
  },
  {
   "cell_type": "raw",
   "id": "65964d62-8b39-479a-bf14-f5ec8b2da56c",
   "metadata": {},
   "source": [
    "Q15. How do you create a copy of a Pandas DataFrame?"
   ]
  },
  {
   "cell_type": "raw",
   "id": "a9c33e95-a138-4e76-9039-d839986d6514",
   "metadata": {},
   "source": [
    "ans: The copy() method returns a copy of the DataFrame.\n",
    "\n",
    "By default, the copy is a \"deep copy\" meaning that any changes made in the original DataFrame will NOT be reflected in the copy.\n",
    "\n",
    "syntax:\n",
    "\n",
    "dataframe.copy(deep)"
   ]
  },
  {
   "cell_type": "raw",
   "id": "e897d2d3-f51a-44d8-8588-da12ab462bc7",
   "metadata": {},
   "source": [
    "Q16. How do you filter rows of a Pandas DataFrame by multiple conditions?"
   ]
  },
  {
   "cell_type": "raw",
   "id": "cae19e8b-7bfb-4ad2-9ca7-53e59b6ec26a",
   "metadata": {},
   "source": [
    "ans:  filtration of data is required can be performed based on various conditions.\n",
    "\n",
    "1. loc works with column labels and indexes.\n",
    "2. eval and query works only with columns.\n",
    "3. Boolean indexing works with values in a column only.\n",
    "\n",
    "# Example 1: Use DataFrame.loc[] to filter by multiple conditions\n",
    "df2 = df.loc[(df['Fee']>=24000) & \n",
    "             (df['Discount']< 2000) & \n",
    "             (df['Courses'].str.startswith('P')),\n",
    "                    ['Courses','Duration']]\n",
    "\n",
    "# Example 2: Use DataFrame.query() to filter by multiple conditions\n",
    "df2 = df.query('Fee  >= 22000 & \n",
    "                Discount < 3000 & \n",
    "                Courses.str.startswith(\"H\").values')"
   ]
  },
  {
   "cell_type": "raw",
   "id": "16d55e25-d7c0-4fdb-8ac1-c4f027887307",
   "metadata": {},
   "source": [
    "Q17. How do you calculate the mean of a column in a Pandas DataFrame?"
   ]
  },
  {
   "cell_type": "raw",
   "id": "ba3d1dd1-f0e4-4561-ab0b-c49395859cd7",
   "metadata": {},
   "source": [
    "ans: To calculate the mean of a whole columns in a DataFrame using df.mean() or df.mean(axis=0) average of each column."
   ]
  },
  {
   "cell_type": "raw",
   "id": "1bff3674-2d1b-4d37-9d64-a24caa40ee3c",
   "metadata": {},
   "source": [
    "Q18. How do you calculate the standard deviation of a column in a Pandas DataFrame?"
   ]
  },
  {
   "cell_type": "raw",
   "id": "85ed57aa-c83e-420f-b1a2-6f2055e7a309",
   "metadata": {},
   "source": [
    "ans: By using DataFrame.std() function to calculate the standard deviation of a column in pandas dataframe.\n",
    "\n",
    "Method 1: Calculate standard deviation of single column\n",
    "df['column_name'].std()\n",
    "Method 2: Calculate standard deviation of multiple columns\n",
    "df[['column_name1','column_name2']].std()\n",
    "\n",
    "Method 3:Calculate standard deviation of all numeric columns\n",
    "df.std()"
   ]
  },
  {
   "cell_type": "raw",
   "id": "78e3c5c6-147e-4eec-ac38-d1edfb093d2e",
   "metadata": {},
   "source": [
    "Q19. How do you calculate the correlation between two columns in a Pandas DataFrame?"
   ]
  },
  {
   "cell_type": "raw",
   "id": "92f48463-b4b9-4edc-af95-7ef41a804748",
   "metadata": {},
   "source": [
    "ans: By using corr() function we can get the correlation between two columns in the dataframe.\n",
    "syntax:  dataframe['first_column'].corr(dataframe['second_column'])"
   ]
  },
  {
   "cell_type": "raw",
   "id": "78353c42-93f1-4d2f-9151-f8f5bb68ee75",
   "metadata": {},
   "source": [
    "Q20. How do you select specific columns in a DataFrame using their labels?"
   ]
  },
  {
   "cell_type": "raw",
   "id": "9f029b41-a355-4b76-878a-99529c8eb781",
   "metadata": {},
   "source": [
    "ans:  We can select specifice columns in a dataframe by using df.loc[]\n",
    "\n",
    "Method 1:  Select one column by name\n",
    "df.loc[:,'column1']\n",
    "Method 2: Select multiple columns by name\n",
    "df.loc[:,['column1','column3','column4']]\n",
    "Method 3: Select columns in Range by name\n",
    "df.loc[:,'column2':'column4']\n"
   ]
  },
  {
   "cell_type": "raw",
   "id": "0fd1784d-63ed-4bc6-b478-6342ea562a92",
   "metadata": {},
   "source": [
    "Q21. How do you select specific rows in a DataFrame using their indexes?"
   ]
  },
  {
   "cell_type": "raw",
   "id": "d6bd0441-0e31-4c4b-a495-9e12926b8d38",
   "metadata": {},
   "source": [
    "ans: We can select specifice rows in a single dataframe by integer index using df.iloc[n]"
   ]
  },
  {
   "cell_type": "raw",
   "id": "95ad3125-29db-470e-8df0-ee831748090a",
   "metadata": {},
   "source": [
    "Q22. How do you sort a DataFrame by a specific column?"
   ]
  },
  {
   "cell_type": "raw",
   "id": "18cc5445-4c08-4a44-8fc1-e775daf1dca7",
   "metadata": {},
   "source": [
    "ans: Using sort_values() method sorts a data frame in Ascending or Descending order of passed Column.\n",
    "\n",
    "Syntax: DataFrame.sort_values(by, axis=0, ascending=True, inplace=False, kind=’quicksort’, na_position=’last’)"
   ]
  },
  {
   "cell_type": "raw",
   "id": "43c6a77f-1224-4dbc-9842-2077b1b02fa7",
   "metadata": {},
   "source": [
    "Q23. How do you create a new column in a DataFrame based on the values of another column?"
   ]
  },
  {
   "cell_type": "raw",
   "id": "262c9ee4-cf03-466f-aa1c-25a3fe250aac",
   "metadata": {},
   "source": [
    "ans:we can add/append a new column to the DataFrame based on the values of another column using df. assign() , df. apply() , and, np. where() functions and return a new Dataframe after adding a new column."
   ]
  },
  {
   "cell_type": "raw",
   "id": "347dded1-ea49-4b1f-a164-628159583bd9",
   "metadata": {},
   "source": [
    "Q24. How do you remove duplicates from a DataFrame?"
   ]
  },
  {
   "cell_type": "raw",
   "id": "f8d8aa69-dfc4-4ff5-94e2-cd6f6c398141",
   "metadata": {},
   "source": [
    "ans:Pandas drop_duplicates() method helps in removing duplicates from the pandas dataframe in python.\n",
    "Syntax: DataFrame.drop_duplicates(subset=None, keep=’first’, inplace=False)"
   ]
  },
  {
   "cell_type": "raw",
   "id": "a369f1d8-0c97-4914-a56c-90a89075ebf7",
   "metadata": {},
   "source": [
    "Q25. What is the difference between .loc and .iloc in Pandas?"
   ]
  },
  {
   "cell_type": "raw",
   "id": "1a34a87e-afec-460c-9188-81b2f0de2756",
   "metadata": {},
   "source": [
    "ans: The difference between the two functions:\n",
    "1) .loc selects rows and columns with specific labels :\n",
    "A Value: A single label or integer example:loc[A] or loc[1],\n",
    "A list: A list of labels ex: loc[[A,B]],\n",
    "A Slicing: ex:loc[A:B],A and B are included,\n",
    "Conditions: A bool Series or list,\n",
    "Callable function: loc[lambda x:x[2]]\n",
    "\n",
    "2) .iloc selects rows and columns at specific integer positions\n",
    "A Value: A single integer example:iloc[1],\n",
    "A list: A list of integers ex: loc[[1,2,3]],\n",
    "A Slicing: ex:iloc[n:m],n is included and m is excluded,\n",
    "Conditions: A bool list,\n",
    "Callable function: loc[lambda x:x[2]]\n"
   ]
  }
 ],
 "metadata": {
  "kernelspec": {
   "display_name": "Python 3 (ipykernel)",
   "language": "python",
   "name": "python3"
  },
  "language_info": {
   "codemirror_mode": {
    "name": "ipython",
    "version": 3
   },
   "file_extension": ".py",
   "mimetype": "text/x-python",
   "name": "python",
   "nbconvert_exporter": "python",
   "pygments_lexer": "ipython3",
   "version": "3.10.6"
  }
 },
 "nbformat": 4,
 "nbformat_minor": 5
}
